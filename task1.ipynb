{
 "cells": [
  {
   "cell_type": "code",
   "execution_count": 1,
   "metadata": {},
   "outputs": [
    {
     "name": "stdout",
     "output_type": "stream",
     "text": [
      "es\n",
      "o\n"
     ]
    }
   ],
   "source": [
    "def firstTask(word):\n",
    "    length = len(word)\n",
    "    middle = length // 2\n",
    "    \n",
    "    if length % 2 == 0:\n",
    "        return word[middle - 1:middle + 1]\n",
    "    else:\n",
    "        return word[middle]\n",
    "    \n",
    "print(firstTask(\"test\"))\n",
    "print(firstTask(\"aboba\"))"
   ]
  },
  {
   "cell_type": "code",
   "execution_count": 6,
   "metadata": {},
   "outputs": [
    {
     "name": "stdout",
     "output_type": "stream",
     "text": [
      "Идеальные пары:\n",
      "Alex и Emma\n",
      "Arthur и Kate\n",
      "John и Kira\n",
      "Peter и Liza\n",
      "Richard и Trisha\n",
      "None\n"
     ]
    }
   ],
   "source": [
    "def match(boys,girls):\n",
    "    boys.sort()\n",
    "    girls.sort()\n",
    "    \n",
    "    pairs = list(zip(boys, girls))\n",
    "    \n",
    "    print(\"Идеальные пары:\")\n",
    "    for boy, girl in pairs:\n",
    "        print(f\"{boy} и {girl}\")\n",
    "        \n",
    "boys = ['Peter', 'Alex', 'John', 'Arthur', 'Richard']\n",
    "girls = ['Kate', 'Liza', 'Kira', 'Emma', 'Trisha']\n",
    "result = match(boys, girls)\n",
    "print(result)"
   ]
  }
 ],
 "metadata": {
  "kernelspec": {
   "display_name": "Python 3",
   "language": "python",
   "name": "python3"
  },
  "language_info": {
   "codemirror_mode": {
    "name": "ipython",
    "version": 3
   },
   "file_extension": ".py",
   "mimetype": "text/x-python",
   "name": "python",
   "nbconvert_exporter": "python",
   "pygments_lexer": "ipython3",
   "version": "3.9.13"
  }
 },
 "nbformat": 4,
 "nbformat_minor": 2
}
